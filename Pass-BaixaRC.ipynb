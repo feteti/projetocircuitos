{
 "cells": [
  {
   "cell_type": "markdown",
   "metadata": {},
   "source": [
    "# -Circuito RC"
   ]
  },
  {
   "cell_type": "code",
   "execution_count": 40,
   "metadata": {},
   "outputs": [],
   "source": [
    "import numpy as np\n",
    "import pandas as pd\n",
    "import matplotlib.pyplot as plt\n",
    "from scipy import interpolate"
   ]
  },
  {
   "cell_type": "markdown",
   "metadata": {},
   "source": [
    "## Simulação do circuito Passa-Baixa com 200 experimentos, de 10Hz a 2000Hz"
   ]
  },
  {
   "cell_type": "markdown",
   "metadata": {},
   "source": [
    "Tratando os dados para plotar os graficos."
   ]
  },
  {
   "cell_type": "code",
   "execution_count": 61,
   "metadata": {},
   "outputs": [],
   "source": [
    "f = open(\"DadosRCtxt\")\n",
    "texto = f.readlines()"
   ]
  },
  {
   "cell_type": "code",
   "execution_count": 62,
   "metadata": {},
   "outputs": [],
   "source": [
    "for i in range(0,len(texto)):\n",
    "    texto[i] = texto[i].replace(\"\\t\", \";\")\n",
    "    texto[i] = texto[i].replace(\",\", \";\")"
   ]
  },
  {
   "cell_type": "code",
   "execution_count": 64,
   "metadata": {},
   "outputs": [],
   "source": [
    "f = open(\"DadosRCtxt\", 'w')\n",
    "f.writelines(texto)\n",
    "f.close()"
   ]
  },
  {
   "cell_type": "code",
   "execution_count": 65,
   "metadata": {},
   "outputs": [],
   "source": [
    "df = pd.read_csv(\"Draft1.txt\", sep = \";\")"
   ]
  },
  {
   "cell_type": "code",
   "execution_count": 67,
   "metadata": {},
   "outputs": [
    {
     "data": {
      "text/html": [
       "<div>\n",
       "<style scoped>\n",
       "    .dataframe tbody tr th:only-of-type {\n",
       "        vertical-align: middle;\n",
       "    }\n",
       "\n",
       "    .dataframe tbody tr th {\n",
       "        vertical-align: top;\n",
       "    }\n",
       "\n",
       "    .dataframe thead th {\n",
       "        text-align: right;\n",
       "    }\n",
       "</style>\n",
       "<table border=\"1\" class=\"dataframe\">\n",
       "  <thead>\n",
       "    <tr style=\"text-align: right;\">\n",
       "      <th></th>\n",
       "      <th>Freq</th>\n",
       "      <th>Real</th>\n",
       "      <th>Imaginaria</th>\n",
       "    </tr>\n",
       "  </thead>\n",
       "  <tbody>\n",
       "    <tr>\n",
       "      <th>0</th>\n",
       "      <td>10.0</td>\n",
       "      <td>0.998892</td>\n",
       "      <td>-0.033264</td>\n",
       "    </tr>\n",
       "    <tr>\n",
       "      <th>1</th>\n",
       "      <td>20.0</td>\n",
       "      <td>0.995584</td>\n",
       "      <td>-0.066308</td>\n",
       "    </tr>\n",
       "    <tr>\n",
       "      <th>2</th>\n",
       "      <td>30.0</td>\n",
       "      <td>0.990118</td>\n",
       "      <td>-0.098915</td>\n",
       "    </tr>\n",
       "    <tr>\n",
       "      <th>3</th>\n",
       "      <td>40.0</td>\n",
       "      <td>0.982566</td>\n",
       "      <td>-0.130881</td>\n",
       "    </tr>\n",
       "    <tr>\n",
       "      <th>4</th>\n",
       "      <td>50.0</td>\n",
       "      <td>0.973024</td>\n",
       "      <td>-0.162013</td>\n",
       "    </tr>\n",
       "    <tr>\n",
       "      <th>...</th>\n",
       "      <td>...</td>\n",
       "      <td>...</td>\n",
       "      <td>...</td>\n",
       "    </tr>\n",
       "    <tr>\n",
       "      <th>195</th>\n",
       "      <td>1960.0</td>\n",
       "      <td>0.022935</td>\n",
       "      <td>-0.149696</td>\n",
       "    </tr>\n",
       "    <tr>\n",
       "      <th>196</th>\n",
       "      <td>1970.0</td>\n",
       "      <td>0.022708</td>\n",
       "      <td>-0.148971</td>\n",
       "    </tr>\n",
       "    <tr>\n",
       "      <th>197</th>\n",
       "      <td>1980.0</td>\n",
       "      <td>0.022484</td>\n",
       "      <td>-0.148253</td>\n",
       "    </tr>\n",
       "    <tr>\n",
       "      <th>198</th>\n",
       "      <td>1990.0</td>\n",
       "      <td>0.022264</td>\n",
       "      <td>-0.147541</td>\n",
       "    </tr>\n",
       "    <tr>\n",
       "      <th>199</th>\n",
       "      <td>2000.0</td>\n",
       "      <td>0.022047</td>\n",
       "      <td>-0.146836</td>\n",
       "    </tr>\n",
       "  </tbody>\n",
       "</table>\n",
       "<p>200 rows × 3 columns</p>\n",
       "</div>"
      ],
      "text/plain": [
       "       Freq      Real  Imaginaria\n",
       "0      10.0  0.998892   -0.033264\n",
       "1      20.0  0.995584   -0.066308\n",
       "2      30.0  0.990118   -0.098915\n",
       "3      40.0  0.982566   -0.130881\n",
       "4      50.0  0.973024   -0.162013\n",
       "..      ...       ...         ...\n",
       "195  1960.0  0.022935   -0.149696\n",
       "196  1970.0  0.022708   -0.148971\n",
       "197  1980.0  0.022484   -0.148253\n",
       "198  1990.0  0.022264   -0.147541\n",
       "199  2000.0  0.022047   -0.146836\n",
       "\n",
       "[200 rows x 3 columns]"
      ]
     },
     "execution_count": 67,
     "metadata": {},
     "output_type": "execute_result"
    }
   ],
   "source": [
    "df"
   ]
  },
  {
   "cell_type": "markdown",
   "metadata": {},
   "source": [
    "Preparando o módulo"
   ]
  },
  {
   "cell_type": "code",
   "execution_count": 68,
   "metadata": {},
   "outputs": [],
   "source": [
    "df[\"Modulo\"] = np.sqrt((df[\"Real\"]**2+df[\"Imaginaria\"]**2))"
   ]
  },
  {
   "cell_type": "markdown",
   "metadata": {},
   "source": [
    "Preparando o ganho "
   ]
  },
  {
   "cell_type": "code",
   "execution_count": 69,
   "metadata": {},
   "outputs": [],
   "source": [
    "df[\"Ganho\"] = 20*np.log10(df[\"Modulo\"])"
   ]
  },
  {
   "cell_type": "markdown",
   "metadata": {},
   "source": [
    "Preparando a fase"
   ]
  },
  {
   "cell_type": "code",
   "execution_count": 70,
   "metadata": {},
   "outputs": [],
   "source": [
    "df[\"Fase\"] = np.arctan2(df[\"Imaginaria\"],df[\"Real\"])"
   ]
  },
  {
   "cell_type": "code",
   "execution_count": 71,
   "metadata": {},
   "outputs": [],
   "source": [
    "df[\"Fase\"] = (180/np.pi)*df[\"Fase\"]"
   ]
  },
  {
   "cell_type": "markdown",
   "metadata": {},
   "source": [
    "Parte real e imaginaria não são mais necessárias."
   ]
  },
  {
   "cell_type": "code",
   "execution_count": 72,
   "metadata": {},
   "outputs": [],
   "source": [
    "df = df.drop([\"Real\", \"Imaginaria\"], axis = 1)"
   ]
  },
  {
   "cell_type": "code",
   "execution_count": 73,
   "metadata": {},
   "outputs": [
    {
     "data": {
      "text/html": [
       "<div>\n",
       "<style scoped>\n",
       "    .dataframe tbody tr th:only-of-type {\n",
       "        vertical-align: middle;\n",
       "    }\n",
       "\n",
       "    .dataframe tbody tr th {\n",
       "        vertical-align: top;\n",
       "    }\n",
       "\n",
       "    .dataframe thead th {\n",
       "        text-align: right;\n",
       "    }\n",
       "</style>\n",
       "<table border=\"1\" class=\"dataframe\">\n",
       "  <thead>\n",
       "    <tr style=\"text-align: right;\">\n",
       "      <th></th>\n",
       "      <th>Freq</th>\n",
       "      <th>Modulo</th>\n",
       "      <th>Ganho</th>\n",
       "      <th>Fase</th>\n",
       "    </tr>\n",
       "  </thead>\n",
       "  <tbody>\n",
       "    <tr>\n",
       "      <th>0</th>\n",
       "      <td>10.0</td>\n",
       "      <td>0.999446</td>\n",
       "      <td>-0.004813</td>\n",
       "      <td>-1.907295</td>\n",
       "    </tr>\n",
       "    <tr>\n",
       "      <th>1</th>\n",
       "      <td>20.0</td>\n",
       "      <td>0.997789</td>\n",
       "      <td>-0.019222</td>\n",
       "      <td>-3.810373</td>\n",
       "    </tr>\n",
       "    <tr>\n",
       "      <th>2</th>\n",
       "      <td>30.0</td>\n",
       "      <td>0.995047</td>\n",
       "      <td>-0.043130</td>\n",
       "      <td>-5.705070</td>\n",
       "    </tr>\n",
       "    <tr>\n",
       "      <th>3</th>\n",
       "      <td>40.0</td>\n",
       "      <td>0.991245</td>\n",
       "      <td>-0.076382</td>\n",
       "      <td>-7.587336</td>\n",
       "    </tr>\n",
       "    <tr>\n",
       "      <th>4</th>\n",
       "      <td>50.0</td>\n",
       "      <td>0.986420</td>\n",
       "      <td>-0.118764</td>\n",
       "      <td>-9.453277</td>\n",
       "    </tr>\n",
       "    <tr>\n",
       "      <th>...</th>\n",
       "      <td>...</td>\n",
       "      <td>...</td>\n",
       "      <td>...</td>\n",
       "      <td>...</td>\n",
       "    </tr>\n",
       "    <tr>\n",
       "      <th>195</th>\n",
       "      <td>1960.0</td>\n",
       "      <td>0.151443</td>\n",
       "      <td>-16.395002</td>\n",
       "      <td>-81.289426</td>\n",
       "    </tr>\n",
       "    <tr>\n",
       "      <th>196</th>\n",
       "      <td>1970.0</td>\n",
       "      <td>0.150692</td>\n",
       "      <td>-16.438196</td>\n",
       "      <td>-81.332969</td>\n",
       "    </tr>\n",
       "    <tr>\n",
       "      <th>197</th>\n",
       "      <td>1980.0</td>\n",
       "      <td>0.149948</td>\n",
       "      <td>-16.481182</td>\n",
       "      <td>-81.376082</td>\n",
       "    </tr>\n",
       "    <tr>\n",
       "      <th>198</th>\n",
       "      <td>1990.0</td>\n",
       "      <td>0.149211</td>\n",
       "      <td>-16.523960</td>\n",
       "      <td>-81.418772</td>\n",
       "    </tr>\n",
       "    <tr>\n",
       "      <th>199</th>\n",
       "      <td>2000.0</td>\n",
       "      <td>0.148482</td>\n",
       "      <td>-16.566534</td>\n",
       "      <td>-81.461044</td>\n",
       "    </tr>\n",
       "  </tbody>\n",
       "</table>\n",
       "<p>200 rows × 4 columns</p>\n",
       "</div>"
      ],
      "text/plain": [
       "       Freq    Modulo      Ganho       Fase\n",
       "0      10.0  0.999446  -0.004813  -1.907295\n",
       "1      20.0  0.997789  -0.019222  -3.810373\n",
       "2      30.0  0.995047  -0.043130  -5.705070\n",
       "3      40.0  0.991245  -0.076382  -7.587336\n",
       "4      50.0  0.986420  -0.118764  -9.453277\n",
       "..      ...       ...        ...        ...\n",
       "195  1960.0  0.151443 -16.395002 -81.289426\n",
       "196  1970.0  0.150692 -16.438196 -81.332969\n",
       "197  1980.0  0.149948 -16.481182 -81.376082\n",
       "198  1990.0  0.149211 -16.523960 -81.418772\n",
       "199  2000.0  0.148482 -16.566534 -81.461044\n",
       "\n",
       "[200 rows x 4 columns]"
      ]
     },
     "execution_count": 73,
     "metadata": {},
     "output_type": "execute_result"
    }
   ],
   "source": [
    "df"
   ]
  },
  {
   "cell_type": "code",
   "execution_count": 126,
   "metadata": {},
   "outputs": [],
   "source": [
    "f_c = float(df[abs(df[\"Ganho\"]+3) < 0.01][\"Freq\"])\n",
    "Gain_cut = float(df[abs(df[\"Ganho\"]+3) < 0.01] [\"Ganho\"])"
   ]
  },
  {
   "cell_type": "code",
   "execution_count": 324,
   "metadata": {},
   "outputs": [
    {
     "data": {
      "image/png": "[encoded data removed]",
      "text/plain": [
       "<Figure size 432x288 with 1 Axes>"
      ]
     },
     "metadata": {
      "needs_background": "light"
     },
     "output_type": "display_data"
    }
   ],
   "source": [
    "graphGain(df[\"Freq\"], df[\"Ganho\"], 299.58, -3) "
   ]
  },
  {
   "cell_type": "markdown",
   "metadata": {},
   "source": [
    "### 3) Grapher Gain"
   ]
  },
  {
   "cell_type": "code",
   "execution_count": 278,
   "metadata": {},
   "outputs": [],
   "source": [
    "def graphGain(x, y, f_c, Gain_cut):\n",
    "    \n",
    "    plt.scatter(f_c, Gain_cut, c = 'r' , marker = 'o') #plota a frequencia de corte\n",
    "    plt.plot(x, y)#plota o gráfico inteiro \n",
    "    \n",
    "    plt.xscale(\"log\")#escala de x\n",
    "    \n",
    "    plt.yticks([0, -3, -5, -7.5, -10, -12.5, -15])\n",
    "    \n",
    "    plt.annotate(\"Frequência \\n de Corte\", xy = (f_c, Gain_cut+0.2)) #Anota a frequencia de corte\n",
    "    plt.annotate(\"(\"+str(round(f_c,2))+\",\"+str(round(Gain_cut,3))+\")\",xy = (f_c-160, Gain_cut-1.4),\n",
    "                 fontsize=\"small\") #anota as coordenadas\n",
    "    \n",
    "    plt.arrow(30, -3, -50 , 0, length_includes_head = True, linestyle = '--', color = 'g')#Banda de passagem\n",
    "    plt.arrow(80, -3, 220 , 0, length_includes_head = True, linestyle = '--', color = 'g')\n",
    "    plt.annotate(\"Banda de\\nPassagem\", xy = (35, -3.775)) \n",
    "    \n",
    "    \n",
    "    plt.xlim(10,2000) #ajusta os eixos \n",
    "    \n",
    "    #Legendas\n",
    "    plt.xlabel(\"Frequência (Hz)\")\n",
    "    plt.ylabel(\"Ganho(dB)\")\n",
    "    \n",
    "    #salva a figura\n",
    "    plt.savefig(\"GraficoGanhoRC\", dpi = 400)\n",
    "    \n",
    "    plt.show()"
   ]
  },
  {
   "cell_type": "markdown",
   "metadata": {},
   "source": [
    "### 6) Graph Phase"
   ]
  },
  {
   "cell_type": "code",
   "execution_count": 320,
   "metadata": {},
   "outputs": [],
   "source": [
    "def graphPhase(x, y, f_c, Ph_c):\n",
    "    \n",
    "    plt.scatter(f_c, Ph_c, c = 'r' , marker = 'o') #plota a frequencia de corte\n",
    "    plt.plot(x, y, linestyle =\"--\")#plota o gráfico inteiro \n",
    "    \n",
    "    plt.xscale(\"log\")#escala de x\n",
    "    \n",
    "    \n",
    "    plt.annotate(\"Frequência \\n de Corte\", xy = (f_c+100,float(Ph_c)+0.2)) #Anota a frequencia de corte\n",
    "    plt.annotate(\"(\"+str(round(f_c,2))+\",\"+str(round(float(Ph_c),3))+\")\",xy = (f_c+100, Ph_c-5),\n",
    "                 fontsize=\"small\") #anota as coordenadas\n",
    "    \n",
    "    plt.arrow(30, -45, -50 , 0, length_includes_head = True, linestyle = '--', color = 'g')#Banda de passagem\n",
    "    plt.arrow(80, -45, 220 , 0, length_includes_head = True, linestyle = '--', color = 'g')\n",
    "    plt.annotate(\"Banda de\\nPassagem\", xy = (35, -47)) \n",
    "    \n",
    "    plt.yticks([0, -10, -20, -30, -40, -45, -50, -60, -70, -80, -90])\n",
    "    \n",
    "    plt.xlim(10,2000) #ajusta os eixos \n",
    "    \n",
    "    #Legendas\n",
    "    plt.xlabel(\"Frequência (Hz)\")\n",
    "    plt.ylabel(\"Fase(°)\")\n",
    "    \n",
    "    #salva a figura\n",
    "    plt.savefig(\"GraficoFaseRC\", dpi = 400)\n",
    "    \n",
    "    plt.show()"
   ]
  },
  {
   "cell_type": "code",
   "execution_count": 321,
   "metadata": {},
   "outputs": [],
   "source": [
    "Ph_c = df[df[\"Freq\"] == 300][\"Fase\"]\n"
   ]
  },
  {
   "cell_type": "code",
   "execution_count": 326,
   "metadata": {},
   "outputs": [
    {
     "data": {
      "image/png": "[encoded data removed]",
      "text/plain": [
       "<Figure size 432x288 with 1 Axes>"
      ]
     },
     "metadata": {
      "needs_background": "light"
     },
     "output_type": "display_data"
    }
   ],
   "source": [
    "graphPhase(df[\"Freq\"], df[\"Fase\"], 299.58, -45)"
   ]
  },
  {
   "cell_type": "code",
   "execution_count": 318,
   "metadata": {},
   "outputs": [],
   "source": [
    "df1 = df.drop(\"Modulo\", axis = 1)\n",
    "\n",
    "df1 = df1[(df1[\"Freq\"]<=50) | ((df1[\"Freq\"]<=320) & (270<=df1[\"Freq\"])) | (df1[\"Freq\"]==1000) | (df1[\"Freq\"] == 1500) | (df[\"Freq\"]==2000)]"
   ]
  },
  {
   "cell_type": "code",
   "execution_count": 319,
   "metadata": {},
   "outputs": [
    {
     "name": "stdout",
     "output_type": "stream",
     "text": [
      "\\begin{tabular}{rrr}\n",
      "\\toprule\n",
      "   Freq &      Ganho &       Fase \\\\\n",
      "\\midrule\n",
      "   10.0 &  -0.004813 &  -1.907295 \\\\\n",
      "   20.0 &  -0.019222 &  -3.810373 \\\\\n",
      "   30.0 &  -0.043130 &  -5.705070 \\\\\n",
      "   40.0 &  -0.076382 &  -7.587336 \\\\\n",
      "   50.0 &  -0.118764 &  -9.453277 \\\\\n",
      "  270.0 &  -2.573002 & -41.959465 \\\\\n",
      "  280.0 &  -2.717059 & -42.997230 \\\\\n",
      "  290.0 &  -2.861478 & -44.001091 \\\\\n",
      "  300.0 &  -3.006072 & -44.972097 \\\\\n",
      "  310.0 &  -3.150672 & -45.911302 \\\\\n",
      "  320.0 &  -3.295125 & -46.819764 \\\\\n",
      " 1000.0 & -10.824079 & -73.285390 \\\\\n",
      " 1500.0 & -14.141599 & -78.679331 \\\\\n",
      " 2000.0 & -16.566534 & -81.461044 \\\\\n",
      "\\bottomrule\n",
      "\\end{tabular}\n",
      "\n"
     ]
    }
   ],
   "source": [
    "print(df1.to_latex(index = False))"
   ]
  },
  {
   "cell_type": "code",
   "execution_count": null,
   "metadata": {},
   "outputs": [],
   "source": []
  }
 ],
 "metadata": {
  "kernelspec": {
   "display_name": "Python 3",
   "language": "python",
   "name": "python3"
  },
  "language_info": {
   "codemirror_mode": {
    "name": "ipython",
    "version": 3
   },
   "file_extension": ".py",
   "mimetype": "text/x-python",
   "name": "python",
   "nbconvert_exporter": "python",
   "pygments_lexer": "ipython3",
   "version": "3.7.3"
  }
 },
 "nbformat": 4,
 "nbformat_minor": 2
}
