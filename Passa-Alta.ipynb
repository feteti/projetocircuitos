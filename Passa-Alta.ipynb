{
 "cells": [
  {
   "cell_type": "markdown",
   "metadata": {},
   "source": [
    "# -Circuito RC"
   ]
  },
  {
   "cell_type": "code",
   "execution_count": 5,
   "metadata": {},
   "outputs": [],
   "source": [
    "import numpy as np\n",
    "import pandas as pd\n",
    "import matplotlib.pyplot as plt\n",
    "from scipy import interpolate"
   ]
  },
  {
   "cell_type": "markdown",
   "metadata": {},
   "source": [
    "## Simulação do circuito Passa-Baixa com 200 experimentos, de 10Hz a 2000Hz"
   ]
  },
  {
   "cell_type": "markdown",
   "metadata": {},
   "source": [
    "Tratando os dados para plotar os graficos."
   ]
  },
  {
   "cell_type": "code",
   "execution_count": 6,
   "metadata": {},
   "outputs": [],
   "source": [
    "f = open(\"PassaAlta.txt\")\n",
    "texto = f.readlines()"
   ]
  },
  {
   "cell_type": "code",
   "execution_count": 7,
   "metadata": {},
   "outputs": [],
   "source": [
    "for i in range(0,len(texto)):\n",
    "    texto[i] = texto[i].replace(\"\\t\", \";\")\n",
    "    texto[i] = texto[i].replace(\",\", \";\")"
   ]
  },
  {
   "cell_type": "code",
   "execution_count": 8,
   "metadata": {},
   "outputs": [],
   "source": [
    "f = open(\"PassaAlta.txt\", 'w')\n",
    "f.writelines(texto)\n",
    "f.close()"
   ]
  },
  {
   "cell_type": "code",
   "execution_count": 9,
   "metadata": {},
   "outputs": [],
   "source": [
    "df = pd.read_csv(\"PassaAlta.txt\", sep = \";\")"
   ]
  },
  {
   "cell_type": "code",
   "execution_count": 10,
   "metadata": {},
   "outputs": [
    {
     "data": {
      "text/html": [
       "<div>\n",
       "<style scoped>\n",
       "    .dataframe tbody tr th:only-of-type {\n",
       "        vertical-align: middle;\n",
       "    }\n",
       "\n",
       "    .dataframe tbody tr th {\n",
       "        vertical-align: top;\n",
       "    }\n",
       "\n",
       "    .dataframe thead th {\n",
       "        text-align: right;\n",
       "    }\n",
       "</style>\n",
       "<table border=\"1\" class=\"dataframe\">\n",
       "  <thead>\n",
       "    <tr style=\"text-align: right;\">\n",
       "      <th></th>\n",
       "      <th>Freq</th>\n",
       "      <th>Real</th>\n",
       "      <th>Imaginaria</th>\n",
       "    </tr>\n",
       "  </thead>\n",
       "  <tbody>\n",
       "    <tr>\n",
       "      <th>0</th>\n",
       "      <td>10.0</td>\n",
       "      <td>0.000021</td>\n",
       "      <td>0.004555</td>\n",
       "    </tr>\n",
       "    <tr>\n",
       "      <th>1</th>\n",
       "      <td>20.0</td>\n",
       "      <td>0.000083</td>\n",
       "      <td>0.009110</td>\n",
       "    </tr>\n",
       "    <tr>\n",
       "      <th>2</th>\n",
       "      <td>30.0</td>\n",
       "      <td>0.000187</td>\n",
       "      <td>0.013663</td>\n",
       "    </tr>\n",
       "    <tr>\n",
       "      <th>3</th>\n",
       "      <td>40.0</td>\n",
       "      <td>0.000332</td>\n",
       "      <td>0.018215</td>\n",
       "    </tr>\n",
       "    <tr>\n",
       "      <th>4</th>\n",
       "      <td>50.0</td>\n",
       "      <td>0.000519</td>\n",
       "      <td>0.022765</td>\n",
       "    </tr>\n",
       "    <tr>\n",
       "      <th>...</th>\n",
       "      <td>...</td>\n",
       "      <td>...</td>\n",
       "      <td>...</td>\n",
       "    </tr>\n",
       "    <tr>\n",
       "      <th>995</th>\n",
       "      <td>9960.0</td>\n",
       "      <td>0.953672</td>\n",
       "      <td>0.210195</td>\n",
       "    </tr>\n",
       "    <tr>\n",
       "      <th>996</th>\n",
       "      <td>9970.0</td>\n",
       "      <td>0.953760</td>\n",
       "      <td>0.210003</td>\n",
       "    </tr>\n",
       "    <tr>\n",
       "      <th>997</th>\n",
       "      <td>9980.0</td>\n",
       "      <td>0.953849</td>\n",
       "      <td>0.209812</td>\n",
       "    </tr>\n",
       "    <tr>\n",
       "      <th>998</th>\n",
       "      <td>9990.0</td>\n",
       "      <td>0.953937</td>\n",
       "      <td>0.209622</td>\n",
       "    </tr>\n",
       "    <tr>\n",
       "      <th>999</th>\n",
       "      <td>10000.0</td>\n",
       "      <td>0.954025</td>\n",
       "      <td>0.209431</td>\n",
       "    </tr>\n",
       "  </tbody>\n",
       "</table>\n",
       "<p>1000 rows × 3 columns</p>\n",
       "</div>"
      ],
      "text/plain": [
       "        Freq      Real  Imaginaria\n",
       "0       10.0  0.000021    0.004555\n",
       "1       20.0  0.000083    0.009110\n",
       "2       30.0  0.000187    0.013663\n",
       "3       40.0  0.000332    0.018215\n",
       "4       50.0  0.000519    0.022765\n",
       "..       ...       ...         ...\n",
       "995   9960.0  0.953672    0.210195\n",
       "996   9970.0  0.953760    0.210003\n",
       "997   9980.0  0.953849    0.209812\n",
       "998   9990.0  0.953937    0.209622\n",
       "999  10000.0  0.954025    0.209431\n",
       "\n",
       "[1000 rows x 3 columns]"
      ]
     },
     "execution_count": 10,
     "metadata": {},
     "output_type": "execute_result"
    }
   ],
   "source": [
    "df"
   ]
  },
  {
   "cell_type": "markdown",
   "metadata": {},
   "source": [
    "Preparando o módulo"
   ]
  },
  {
   "cell_type": "code",
   "execution_count": 11,
   "metadata": {},
   "outputs": [],
   "source": [
    "df[\"Modulo\"] = np.sqrt((df[\"Real\"]**2+df[\"Imaginaria\"]**2))"
   ]
  },
  {
   "cell_type": "markdown",
   "metadata": {},
   "source": [
    "Preparando o ganho "
   ]
  },
  {
   "cell_type": "code",
   "execution_count": 12,
   "metadata": {},
   "outputs": [],
   "source": [
    "df[\"Ganho\"] = 20*np.log10(df[\"Modulo\"])"
   ]
  },
  {
   "cell_type": "markdown",
   "metadata": {},
   "source": [
    "Preparando a fase"
   ]
  },
  {
   "cell_type": "code",
   "execution_count": 13,
   "metadata": {},
   "outputs": [],
   "source": [
    "df[\"Fase\"] = np.arctan2(df[\"Imaginaria\"],df[\"Real\"])"
   ]
  },
  {
   "cell_type": "code",
   "execution_count": 14,
   "metadata": {},
   "outputs": [],
   "source": [
    "df[\"Fase\"] = (180/np.pi)*df[\"Fase\"]"
   ]
  },
  {
   "cell_type": "markdown",
   "metadata": {},
   "source": [
    "Parte real e imaginaria não são mais necessárias."
   ]
  },
  {
   "cell_type": "code",
   "execution_count": 15,
   "metadata": {},
   "outputs": [],
   "source": [
    "df = df.drop([\"Real\", \"Imaginaria\"], axis = 1)"
   ]
  },
  {
   "cell_type": "code",
   "execution_count": 16,
   "metadata": {},
   "outputs": [
    {
     "data": {
      "text/html": [
       "<div>\n",
       "<style scoped>\n",
       "    .dataframe tbody tr th:only-of-type {\n",
       "        vertical-align: middle;\n",
       "    }\n",
       "\n",
       "    .dataframe tbody tr th {\n",
       "        vertical-align: top;\n",
       "    }\n",
       "\n",
       "    .dataframe thead th {\n",
       "        text-align: right;\n",
       "    }\n",
       "</style>\n",
       "<table border=\"1\" class=\"dataframe\">\n",
       "  <thead>\n",
       "    <tr style=\"text-align: right;\">\n",
       "      <th></th>\n",
       "      <th>Freq</th>\n",
       "      <th>Modulo</th>\n",
       "      <th>Ganho</th>\n",
       "      <th>Fase</th>\n",
       "    </tr>\n",
       "  </thead>\n",
       "  <tbody>\n",
       "    <tr>\n",
       "      <th>0</th>\n",
       "      <td>10.0</td>\n",
       "      <td>0.004555</td>\n",
       "      <td>-46.829733</td>\n",
       "      <td>89.739002</td>\n",
       "    </tr>\n",
       "    <tr>\n",
       "      <th>1</th>\n",
       "      <td>20.0</td>\n",
       "      <td>0.009110</td>\n",
       "      <td>-40.809403</td>\n",
       "      <td>89.478014</td>\n",
       "    </tr>\n",
       "    <tr>\n",
       "      <th>2</th>\n",
       "      <td>30.0</td>\n",
       "      <td>0.013665</td>\n",
       "      <td>-37.288028</td>\n",
       "      <td>89.217049</td>\n",
       "    </tr>\n",
       "    <tr>\n",
       "      <th>3</th>\n",
       "      <td>40.0</td>\n",
       "      <td>0.018218</td>\n",
       "      <td>-34.789884</td>\n",
       "      <td>88.956116</td>\n",
       "    </tr>\n",
       "    <tr>\n",
       "      <th>4</th>\n",
       "      <td>50.0</td>\n",
       "      <td>0.022771</td>\n",
       "      <td>-32.852495</td>\n",
       "      <td>88.695226</td>\n",
       "    </tr>\n",
       "    <tr>\n",
       "      <th>...</th>\n",
       "      <td>...</td>\n",
       "      <td>...</td>\n",
       "      <td>...</td>\n",
       "      <td>...</td>\n",
       "    </tr>\n",
       "    <tr>\n",
       "      <th>995</th>\n",
       "      <td>9960.0</td>\n",
       "      <td>0.976561</td>\n",
       "      <td>-0.206010</td>\n",
       "      <td>12.429587</td>\n",
       "    </tr>\n",
       "    <tr>\n",
       "      <th>996</th>\n",
       "      <td>9970.0</td>\n",
       "      <td>0.976607</td>\n",
       "      <td>-0.205607</td>\n",
       "      <td>12.417507</td>\n",
       "    </tr>\n",
       "    <tr>\n",
       "      <th>997</th>\n",
       "      <td>9980.0</td>\n",
       "      <td>0.976652</td>\n",
       "      <td>-0.205204</td>\n",
       "      <td>12.405450</td>\n",
       "    </tr>\n",
       "    <tr>\n",
       "      <th>998</th>\n",
       "      <td>9990.0</td>\n",
       "      <td>0.976697</td>\n",
       "      <td>-0.204803</td>\n",
       "      <td>12.393416</td>\n",
       "    </tr>\n",
       "    <tr>\n",
       "      <th>999</th>\n",
       "      <td>10000.0</td>\n",
       "      <td>0.976742</td>\n",
       "      <td>-0.204403</td>\n",
       "      <td>12.381405</td>\n",
       "    </tr>\n",
       "  </tbody>\n",
       "</table>\n",
       "<p>1000 rows × 4 columns</p>\n",
       "</div>"
      ],
      "text/plain": [
       "        Freq    Modulo      Ganho       Fase\n",
       "0       10.0  0.004555 -46.829733  89.739002\n",
       "1       20.0  0.009110 -40.809403  89.478014\n",
       "2       30.0  0.013665 -37.288028  89.217049\n",
       "3       40.0  0.018218 -34.789884  88.956116\n",
       "4       50.0  0.022771 -32.852495  88.695226\n",
       "..       ...       ...        ...        ...\n",
       "995   9960.0  0.976561  -0.206010  12.429587\n",
       "996   9970.0  0.976607  -0.205607  12.417507\n",
       "997   9980.0  0.976652  -0.205204  12.405450\n",
       "998   9990.0  0.976697  -0.204803  12.393416\n",
       "999  10000.0  0.976742  -0.204403  12.381405\n",
       "\n",
       "[1000 rows x 4 columns]"
      ]
     },
     "execution_count": 16,
     "metadata": {},
     "output_type": "execute_result"
    }
   ],
   "source": [
    "df"
   ]
  },
  {
   "cell_type": "code",
   "execution_count": 86,
   "metadata": {},
   "outputs": [
    {
     "data": {
      "text/plain": [
       "-3.0009045839720505"
      ]
     },
     "execution_count": 86,
     "metadata": {},
     "output_type": "execute_result"
    }
   ],
   "source": [
    "f_c = float(df[abs(df[\"Ganho\"]+3) < 0.01][\"Freq\"])\n",
    "Gain_cut = float(df[abs(df[\"Ganho\"]+3) < 0.01] [\"Ganho\"])\n",
    "df[abs(df[\"Ganho\"]+3) < 0.01]\n",
    "Gain_cut"
   ]
  },
  {
   "cell_type": "code",
   "execution_count": 125,
   "metadata": {},
   "outputs": [
    {
     "data": {
      "image/png": "[encoded data removed]",
      "text/plain": [
       "<Figure size 432x288 with 1 Axes>"
      ]
     },
     "metadata": {
      "needs_background": "light"
     },
     "output_type": "display_data"
    }
   ],
   "source": [
    "graphGain(df[\"Freq\"], df[\"Ganho\"], f_c, -3) "
   ]
  },
  {
   "cell_type": "markdown",
   "metadata": {},
   "source": [
    "### 3) Grapher Gain"
   ]
  },
  {
   "cell_type": "code",
   "execution_count": 124,
   "metadata": {},
   "outputs": [],
   "source": [
    "def graphGain(x, y, f_c, Gain_cut):\n",
    "    \n",
    "    plt.scatter(f_c, Gain_cut, c = 'r' , marker = 'o') #plota a frequencia de corte\n",
    "    plt.plot(x, y)#plota o gráfico inteiro \n",
    "    \n",
    "    plt.xscale(\"log\")#escala de x\n",
    "    \n",
    "    #plt.yticks([0, -3, -5, -7.5, -10, -12.5, -15])\n",
    "    \n",
    "    plt.annotate(\"Frequência \\n de Corte\", xy = (f_c, Gain_cut-1.1)) #Anota a frequencia de corte\n",
    "    plt.annotate(\"(\"+str(round(f_c,2))+\",\"+str(round(Gain_cut,3))+\")\",xy = (f_c, Gain_cut-1.6),\n",
    "                 fontsize=\"small\") #anota as coordenadas\n",
    "    \n",
    "    plt.arrow(2200, -3, 3000 , 0, length_includes_head = True, linestyle = '--', color = 'g')#Banda de passagem\n",
    "    plt.arrow(8000, -3, 2000 , 0, length_includes_head = True, linestyle = '--', color = 'g')\n",
    "    plt.annotate(\"Banda de\\nPassagem\", xy = (5500, -3.5)) \n",
    "    \n",
    "    \n",
    "    plt.xlim(1000,10000) #ajusta os eixos \n",
    "    plt.ylim(-10, 0)\n",
    "    #Legendas\n",
    "    plt.xlabel(\"Frequência (Hz)\")\n",
    "    plt.ylabel(\"Ganho(dB)\")\n",
    "    \n",
    "    #salva a figura\n",
    "    plt.savefig(\"GraficoGanhoPassaAlta\", dpi = 400)\n",
    "    \n",
    "    plt.show()"
   ]
  },
  {
   "cell_type": "markdown",
   "metadata": {},
   "source": [
    "### 6) Graph Phase"
   ]
  },
  {
   "cell_type": "code",
   "execution_count": 108,
   "metadata": {},
   "outputs": [],
   "source": [
    "def graphPhase(x, y, f_c, Ph_c):\n",
    "    \n",
    "    plt.scatter(f_c, Ph_c, c = 'r' , marker = 'o') #plota a frequencia de corte\n",
    "    plt.plot(x, y, linestyle =\"--\")#plota o gráfico inteiro \n",
    "    \n",
    "    plt.xscale(\"log\")#escala de x\n",
    "    \n",
    "    \n",
    "    plt.annotate(\"Frequência \\n de Corte\", xy = (f_c+100,float(Ph_c)+0.3)) #Anota a frequencia de corte\n",
    "    plt.annotate(\"(\"+str(round(f_c,2))+\",\"+str(round(float(Ph_c),3))+\")\",xy = (f_c+400, Ph_c-5),\n",
    "                 fontsize=\"small\") #anota as coordenadas\n",
    "    \n",
    "    plt.arrow(30, -45, -50 , 0, length_includes_head = True, linestyle = '--', color = 'g')#Banda de passagem\n",
    "    plt.arrow(80, -45, 220 , 0, length_includes_head = True, linestyle = '--', color = 'g')\n",
    "    plt.annotate(\"Banda de\\nPassagem\", xy = (35, -47)) \n",
    "    \n",
    "    #plt.yticks([0, -10, -20, -30, -40, -45, -50, -60, -70, -80, -90])\n",
    "    \n",
    "    plt.xlim(10,10000) #ajusta os eixos \n",
    "    \n",
    "    #Legendas\n",
    "    plt.xlabel(\"Frequência (Hz)\")\n",
    "    plt.ylabel(\"Fase(°)\")\n",
    "    \n",
    "    #salva a figura\n",
    "    plt.savefig(\"GraficoFasePassaAlta\", dpi = 400)\n",
    "    \n",
    "    plt.show()"
   ]
  },
  {
   "cell_type": "code",
   "execution_count": 109,
   "metadata": {},
   "outputs": [],
   "source": [
    "Ph_c = df[df[\"Freq\"] == 2200][\"Fase\"]\n"
   ]
  },
  {
   "cell_type": "code",
   "execution_count": 110,
   "metadata": {},
   "outputs": [
    {
     "data": {
      "image/png": "[encoded data removed]",
      "text/plain": [
       "<Figure size 432x288 with 1 Axes>"
      ]
     },
     "metadata": {
      "needs_background": "light"
     },
     "output_type": "display_data"
    }
   ],
   "source": [
    "graphPhase(df[\"Freq\"], df[\"Fase\"], 2200, Ph_c)"
   ]
  },
  {
   "cell_type": "code",
   "execution_count": 122,
   "metadata": {},
   "outputs": [],
   "source": [
    "df1 = df.drop(\"Modulo\", axis = 1)\n",
    "\n",
    "df1 = df1[((df1[\"Freq\"]<=1000)& df1[\"Freq\"]>=700) | ((df1[\"Freq\"]<=2300) & (2100<=df1[\"Freq\"])) | (df1[\"Freq\"]==1000)]"
   ]
  },
  {
   "cell_type": "code",
   "execution_count": 123,
   "metadata": {},
   "outputs": [
    {
     "name": "stdout",
     "output_type": "stream",
     "text": [
      "\\begin{tabular}{rrr}\n",
      "\\toprule\n",
      "   Freq &     Ganho &       Fase \\\\\n",
      "\\midrule\n",
      " 1000.0 & -7.648544 &  65.509267 \\\\\n",
      " 2100.0 & -3.207199 &  46.270241 \\\\\n",
      " 2110.0 & -3.185702 &  46.134266 \\\\\n",
      " 2120.0 & -3.164403 &  45.998909 \\\\\n",
      " 2130.0 & -3.143301 &  45.864166 \\\\\n",
      " 2140.0 & -3.122394 &  45.730036 \\\\\n",
      " 2150.0 & -3.101678 &  45.596515 \\\\\n",
      " 2160.0 & -3.081152 &  45.463601 \\\\\n",
      " 2170.0 & -3.060814 &  45.331291 \\\\\n",
      " 2180.0 & -3.040662 &  45.199582 \\\\\n",
      " 2190.0 & -3.020692 &  45.068471 \\\\\n",
      " 2200.0 & -3.000905 &  44.937957 \\\\\n",
      " 2210.0 & -2.981296 &  44.808036 \\\\\n",
      " 2220.0 & -2.961865 &  44.678705 \\\\\n",
      " 2230.0 & -2.942608 &  44.549962 \\\\\n",
      " 2240.0 & -2.923526 &  44.421804 \\\\\n",
      " 2250.0 & -2.904614 &  44.294228 \\\\\n",
      " 2260.0 & -2.885872 &  44.167233 \\\\\n",
      " 2270.0 & -2.867297 &  44.040814 \\\\\n",
      " 2280.0 & -2.848888 &  43.914969 \\\\\n",
      " 2290.0 & -2.830643 &  43.789696 \\\\\n",
      " 2300.0 & -2.812560 &  43.664991 \\\\\n",
      "\\bottomrule\n",
      "\\end{tabular}\n",
      "\n"
     ]
    }
   ],
   "source": [
    "print(df1.to_latex(index = False))"
   ]
  },
  {
   "cell_type": "code",
   "execution_count": null,
   "metadata": {},
   "outputs": [],
   "source": []
  }
 ],
 "metadata": {
  "kernelspec": {
   "display_name": "Python 3",
   "language": "python",
   "name": "python3"
  },
  "language_info": {
   "codemirror_mode": {
    "name": "ipython",
    "version": 3
   },
   "file_extension": ".py",
   "mimetype": "text/x-python",
   "name": "python",
   "nbconvert_exporter": "python",
   "pygments_lexer": "ipython3",
   "version": "3.7.3"
  }
 },
 "nbformat": 4,
 "nbformat_minor": 2
}
